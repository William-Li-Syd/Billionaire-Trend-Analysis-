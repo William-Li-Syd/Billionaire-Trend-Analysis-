{
 "cells": [
  {
   "cell_type": "markdown",
   "id": "a6175cfb",
   "metadata": {},
   "source": [
    "# Project 2 Notebook"
   ]
  },
  {
   "cell_type": "code",
   "execution_count": 1,
   "id": "323ad507",
   "metadata": {
    "tags": []
   },
   "outputs": [
    {
     "data": {
      "text/html": [
       "<div>\n",
       "<style scoped>\n",
       "    .dataframe tbody tr th:only-of-type {\n",
       "        vertical-align: middle;\n",
       "    }\n",
       "\n",
       "    .dataframe tbody tr th {\n",
       "        vertical-align: top;\n",
       "    }\n",
       "\n",
       "    .dataframe thead th {\n",
       "        text-align: right;\n",
       "    }\n",
       "</style>\n",
       "<table border=\"1\" class=\"dataframe\">\n",
       "  <thead>\n",
       "    <tr style=\"text-align: right;\">\n",
       "      <th></th>\n",
       "      <th>rank</th>\n",
       "      <th>finalWorth</th>\n",
       "      <th>category</th>\n",
       "      <th>personName</th>\n",
       "      <th>age</th>\n",
       "      <th>country</th>\n",
       "      <th>city</th>\n",
       "      <th>source</th>\n",
       "      <th>industries</th>\n",
       "      <th>countryOfCitizenship</th>\n",
       "      <th>...</th>\n",
       "      <th>cpi_change_country</th>\n",
       "      <th>gdp_country</th>\n",
       "      <th>gross_tertiary_education_enrollment</th>\n",
       "      <th>gross_primary_education_enrollment_country</th>\n",
       "      <th>life_expectancy_country</th>\n",
       "      <th>tax_revenue_country_country</th>\n",
       "      <th>total_tax_rate_country</th>\n",
       "      <th>population_country</th>\n",
       "      <th>latitude_country</th>\n",
       "      <th>longitude_country</th>\n",
       "    </tr>\n",
       "  </thead>\n",
       "  <tbody>\n",
       "    <tr>\n",
       "      <th>0</th>\n",
       "      <td>1</td>\n",
       "      <td>211000</td>\n",
       "      <td>Fashion &amp; Retail</td>\n",
       "      <td>Bernard Arnault</td>\n",
       "      <td>74.0</td>\n",
       "      <td>France</td>\n",
       "      <td>Paris</td>\n",
       "      <td>LVMH</td>\n",
       "      <td>Fashion &amp; Retail</td>\n",
       "      <td>France</td>\n",
       "      <td>...</td>\n",
       "      <td>1.1</td>\n",
       "      <td>$2,715,518,274,227</td>\n",
       "      <td>65.6</td>\n",
       "      <td>102.5</td>\n",
       "      <td>82.5</td>\n",
       "      <td>24.2</td>\n",
       "      <td>60.7</td>\n",
       "      <td>67059887.0</td>\n",
       "      <td>46.227638</td>\n",
       "      <td>2.213749</td>\n",
       "    </tr>\n",
       "    <tr>\n",
       "      <th>1</th>\n",
       "      <td>2</td>\n",
       "      <td>180000</td>\n",
       "      <td>Automotive</td>\n",
       "      <td>Elon Musk</td>\n",
       "      <td>51.0</td>\n",
       "      <td>United States</td>\n",
       "      <td>Austin</td>\n",
       "      <td>Tesla, SpaceX</td>\n",
       "      <td>Automotive</td>\n",
       "      <td>United States</td>\n",
       "      <td>...</td>\n",
       "      <td>7.5</td>\n",
       "      <td>$21,427,700,000,000</td>\n",
       "      <td>88.2</td>\n",
       "      <td>101.8</td>\n",
       "      <td>78.5</td>\n",
       "      <td>9.6</td>\n",
       "      <td>36.6</td>\n",
       "      <td>328239523.0</td>\n",
       "      <td>37.090240</td>\n",
       "      <td>-95.712891</td>\n",
       "    </tr>\n",
       "    <tr>\n",
       "      <th>2</th>\n",
       "      <td>3</td>\n",
       "      <td>114000</td>\n",
       "      <td>Technology</td>\n",
       "      <td>Jeff Bezos</td>\n",
       "      <td>59.0</td>\n",
       "      <td>United States</td>\n",
       "      <td>Medina</td>\n",
       "      <td>Amazon</td>\n",
       "      <td>Technology</td>\n",
       "      <td>United States</td>\n",
       "      <td>...</td>\n",
       "      <td>7.5</td>\n",
       "      <td>$21,427,700,000,000</td>\n",
       "      <td>88.2</td>\n",
       "      <td>101.8</td>\n",
       "      <td>78.5</td>\n",
       "      <td>9.6</td>\n",
       "      <td>36.6</td>\n",
       "      <td>328239523.0</td>\n",
       "      <td>37.090240</td>\n",
       "      <td>-95.712891</td>\n",
       "    </tr>\n",
       "    <tr>\n",
       "      <th>3</th>\n",
       "      <td>4</td>\n",
       "      <td>107000</td>\n",
       "      <td>Technology</td>\n",
       "      <td>Larry Ellison</td>\n",
       "      <td>78.0</td>\n",
       "      <td>United States</td>\n",
       "      <td>Lanai</td>\n",
       "      <td>Oracle</td>\n",
       "      <td>Technology</td>\n",
       "      <td>United States</td>\n",
       "      <td>...</td>\n",
       "      <td>7.5</td>\n",
       "      <td>$21,427,700,000,000</td>\n",
       "      <td>88.2</td>\n",
       "      <td>101.8</td>\n",
       "      <td>78.5</td>\n",
       "      <td>9.6</td>\n",
       "      <td>36.6</td>\n",
       "      <td>328239523.0</td>\n",
       "      <td>37.090240</td>\n",
       "      <td>-95.712891</td>\n",
       "    </tr>\n",
       "    <tr>\n",
       "      <th>4</th>\n",
       "      <td>5</td>\n",
       "      <td>106000</td>\n",
       "      <td>Finance &amp; Investments</td>\n",
       "      <td>Warren Buffett</td>\n",
       "      <td>92.0</td>\n",
       "      <td>United States</td>\n",
       "      <td>Omaha</td>\n",
       "      <td>Berkshire Hathaway</td>\n",
       "      <td>Finance &amp; Investments</td>\n",
       "      <td>United States</td>\n",
       "      <td>...</td>\n",
       "      <td>7.5</td>\n",
       "      <td>$21,427,700,000,000</td>\n",
       "      <td>88.2</td>\n",
       "      <td>101.8</td>\n",
       "      <td>78.5</td>\n",
       "      <td>9.6</td>\n",
       "      <td>36.6</td>\n",
       "      <td>328239523.0</td>\n",
       "      <td>37.090240</td>\n",
       "      <td>-95.712891</td>\n",
       "    </tr>\n",
       "  </tbody>\n",
       "</table>\n",
       "<p>5 rows × 35 columns</p>\n",
       "</div>"
      ],
      "text/plain": [
       "   rank  finalWorth               category       personName   age  \\\n",
       "0     1      211000       Fashion & Retail  Bernard Arnault  74.0   \n",
       "1     2      180000             Automotive        Elon Musk  51.0   \n",
       "2     3      114000             Technology       Jeff Bezos  59.0   \n",
       "3     4      107000             Technology    Larry Ellison  78.0   \n",
       "4     5      106000  Finance & Investments   Warren Buffett  92.0   \n",
       "\n",
       "         country    city              source             industries  \\\n",
       "0         France   Paris                LVMH       Fashion & Retail   \n",
       "1  United States  Austin       Tesla, SpaceX             Automotive   \n",
       "2  United States  Medina              Amazon             Technology   \n",
       "3  United States   Lanai              Oracle             Technology   \n",
       "4  United States   Omaha  Berkshire Hathaway  Finance & Investments   \n",
       "\n",
       "  countryOfCitizenship  ... cpi_change_country           gdp_country  \\\n",
       "0               France  ...                1.1   $2,715,518,274,227    \n",
       "1        United States  ...                7.5  $21,427,700,000,000    \n",
       "2        United States  ...                7.5  $21,427,700,000,000    \n",
       "3        United States  ...                7.5  $21,427,700,000,000    \n",
       "4        United States  ...                7.5  $21,427,700,000,000    \n",
       "\n",
       "  gross_tertiary_education_enrollment  \\\n",
       "0                                65.6   \n",
       "1                                88.2   \n",
       "2                                88.2   \n",
       "3                                88.2   \n",
       "4                                88.2   \n",
       "\n",
       "  gross_primary_education_enrollment_country life_expectancy_country  \\\n",
       "0                                      102.5                    82.5   \n",
       "1                                      101.8                    78.5   \n",
       "2                                      101.8                    78.5   \n",
       "3                                      101.8                    78.5   \n",
       "4                                      101.8                    78.5   \n",
       "\n",
       "  tax_revenue_country_country total_tax_rate_country population_country  \\\n",
       "0                        24.2                   60.7         67059887.0   \n",
       "1                         9.6                   36.6        328239523.0   \n",
       "2                         9.6                   36.6        328239523.0   \n",
       "3                         9.6                   36.6        328239523.0   \n",
       "4                         9.6                   36.6        328239523.0   \n",
       "\n",
       "  latitude_country longitude_country  \n",
       "0        46.227638          2.213749  \n",
       "1        37.090240        -95.712891  \n",
       "2        37.090240        -95.712891  \n",
       "3        37.090240        -95.712891  \n",
       "4        37.090240        -95.712891  \n",
       "\n",
       "[5 rows x 35 columns]"
      ]
     },
     "execution_count": 1,
     "metadata": {},
     "output_type": "execute_result"
    }
   ],
   "source": [
    "import pandas as pd\n",
    "import numpy as np\n",
    "import matplotlib.pyplot as plt\n",
    "import seaborn as sns\n",
    "from sklearn.metrics import mean_squared_error, r2_score\n",
    "\n",
    "data = pd.read_csv('Billionaires Statistics Dataset.csv')\n",
    "data.head()"
   ]
  },
  {
   "cell_type": "code",
   "execution_count": 2,
   "id": "8a6997b4",
   "metadata": {
    "scrolled": true
   },
   "outputs": [
    {
     "data": {
      "text/plain": [
       "(2640, 35)"
      ]
     },
     "execution_count": 2,
     "metadata": {},
     "output_type": "execute_result"
    }
   ],
   "source": [
    "# There are 2640 observations and 35 varibles.\n",
    "data.shape"
   ]
  },
  {
   "cell_type": "code",
   "execution_count": 3,
   "id": "75412a30",
   "metadata": {},
   "outputs": [
    {
     "data": {
      "text/plain": [
       "Index(['rank', 'finalWorth', 'category', 'personName', 'age', 'country',\n",
       "       'city', 'source', 'industries', 'countryOfCitizenship', 'organization',\n",
       "       'selfMade', 'status', 'gender', 'birthDate', 'lastName', 'firstName',\n",
       "       'title', 'date', 'state', 'residenceStateRegion', 'birthYear',\n",
       "       'birthMonth', 'birthDay', 'cpi_country', 'cpi_change_country',\n",
       "       'gdp_country', 'gross_tertiary_education_enrollment',\n",
       "       'gross_primary_education_enrollment_country', 'life_expectancy_country',\n",
       "       'tax_revenue_country_country', 'total_tax_rate_country',\n",
       "       'population_country', 'latitude_country', 'longitude_country'],\n",
       "      dtype='object')"
      ]
     },
     "execution_count": 3,
     "metadata": {},
     "output_type": "execute_result"
    }
   ],
   "source": [
    "# Column names\n",
    "data.columns"
   ]
  },
  {
   "cell_type": "markdown",
   "id": "6ef83a11",
   "metadata": {},
   "source": [
    "# Data quality and cleaning"
   ]
  },
  {
   "cell_type": "code",
   "execution_count": 4,
   "id": "12977793",
   "metadata": {},
   "outputs": [],
   "source": [
    "# store the unused columns\n",
    "columns_to_drop = ['residenceStateRegion', 'state', 'organization', 'date', \n",
    "                   'title', 'birthDate', 'birthMonth', 'birthDay', 'birthYear', \n",
    "                   'status', 'cpi_country','cpi_change_country','latitude_country',\n",
    "                   'longitude_country','gross_tertiary_education_enrollment',\n",
    "                   'gross_primary_education_enrollment_country', 'lastName', 'firstName',\n",
    "                  'gdp_country', 'life_expectancy_country','tax_revenue_country_country',\n",
    "                  'population_country','total_tax_rate_country']\n",
    "\n",
    "# Identify columns from 'columns_to_drop' that exist in the 'data'\n",
    "# and then remove those columns from 'data'.\n",
    "\n",
    "# Remove specified columns from 'data', ignoring any columns that do not exist.\n",
    "data.drop(columns=columns_to_drop, inplace=True, errors='ignore')"
   ]
  },
  {
   "cell_type": "code",
   "execution_count": 5,
   "id": "27423c00",
   "metadata": {},
   "outputs": [
    {
     "data": {
      "text/plain": [
       "Index(['rank', 'finalWorth', 'category', 'personName', 'age', 'country',\n",
       "       'city', 'source', 'industries', 'countryOfCitizenship', 'selfMade',\n",
       "       'gender'],\n",
       "      dtype='object')"
      ]
     },
     "execution_count": 5,
     "metadata": {},
     "output_type": "execute_result"
    }
   ],
   "source": [
    "# Column names after droppoing the unused columns\n",
    "data.columns"
   ]
  },
  {
   "cell_type": "code",
   "execution_count": 6,
   "id": "5d7dae40",
   "metadata": {},
   "outputs": [
    {
     "name": "stdout",
     "output_type": "stream",
     "text": [
      "Asia             1073\n",
      "North America     818\n",
      "Europe            591\n",
      "South America      58\n",
      "Oceania            45\n",
      "Africa             17\n",
      "Name: continent, dtype: int64\n"
     ]
    }
   ],
   "source": [
    "# Construct a dictionary mapping each country to its continent.\n",
    "continent_dict = {\n",
    "    'Europe': ['France', 'Spain', 'Germany', 'Switzerland', 'Belgium', 'Austria', 'United Kingdom',\n",
    "               'Monaco', 'Czech Republic', 'Sweden', 'Italy', 'Russia', 'Norway', 'Denmark', \n",
    "               'Netherlands', 'Poland', 'Greece', 'Ukraine', 'Georgia', 'Portugal', 'Latvia', \n",
    "               'Finland', 'Luxembourg', 'Ireland', 'Cyprus', 'Guernsey', 'Liechtenstein', 'Romania', \n",
    "               'Hungary', 'Andorra','Slovakia'],\n",
    "    \n",
    "    'North America': ['United States', 'Mexico', 'Canada', 'Bahamas', 'Cayman Islands', 'Bermuda', \n",
    "                      'British Virgin Islands', 'Turks and Caicos Islands'],\n",
    "    \n",
    "    'Asia': ['India', 'China', 'Hong Kong', 'Japan', 'Indonesia', 'United Arab Emirates', 'Thailand', \n",
    "             'Uzbekistan', 'Singapore', 'Israel', 'Malaysia', 'South Korea', 'Philippines', 'Taiwan', \n",
    "             'Kazakhstan', 'Vietnam', 'Cambodia', 'Lebanon', 'Oman', 'Qatar', 'Nepal', 'Bahrain', 'Armenia'\n",
    "            ,\"Turkey\"],\n",
    "    \n",
    "    'Oceania': ['Australia', 'New Zealand'],\n",
    "    \n",
    "    'South America': ['Chile', 'Brazil', 'Colombia', 'Argentina', 'Uruguay', 'Peru'],\n",
    "    \n",
    "    'Africa': ['Nigeria', 'South Africa', 'Egypt', 'Eswatini (Swaziland)', 'Algeria', 'Morocco', 'Tanzania']\n",
    "}\n",
    "\n",
    "# The outer loop iterates over key-value pairs in continent_dict, \n",
    "# while the inner loop goes through each country in the list, \n",
    "# setting the country as the key and its continent as the value.\n",
    "country_to_continent = {country: continent for continent, countries in continent_dict.items() \n",
    "                        for country in countries}\n",
    "\n",
    "# Create a new 'continent' column in the dataframe. For each row, look up the 'country' column value \n",
    "# in the country_to_continent dictionary to determine its corresponding continent. \n",
    "data['continent'] = data['country'].map(country_to_continent)\n",
    "\n",
    "# Check the new 'continent' column\n",
    "print(data['continent'].value_counts())"
   ]
  },
  {
   "cell_type": "markdown",
   "id": "98eafff4",
   "metadata": {},
   "source": [
    "## Missing values"
   ]
  },
  {
   "cell_type": "code",
   "execution_count": 7,
   "id": "b44caa2f",
   "metadata": {},
   "outputs": [
    {
     "name": "stdout",
     "output_type": "stream",
     "text": [
      "                      Missing Count  Missing Percentage\n",
      "rank                              0            0.000000\n",
      "finalWorth                        0            0.000000\n",
      "category                          0            0.000000\n",
      "personName                        0            0.000000\n",
      "age                              65            2.462121\n",
      "country                          38            1.439394\n",
      "city                             72            2.727273\n",
      "source                            0            0.000000\n",
      "industries                        0            0.000000\n",
      "countryOfCitizenship              0            0.000000\n",
      "selfMade                          0            0.000000\n",
      "gender                            0            0.000000\n",
      "continent                        38            1.439394\n"
     ]
    }
   ],
   "source": [
    "# Calculate the sum of missing values in each column\n",
    "missing_values = data.isnull().sum()\n",
    "\n",
    "# Calculate the percentage of missing values in each column\n",
    "missing_percentage = (missing_values / len(data)) * 100\n",
    "\n",
    "# Combine both count and percentage of missing values\n",
    "missing_info = pd.DataFrame({\n",
    "    'Missing Count': missing_values,\n",
    "    'Missing Percentage': missing_percentage\n",
    "})\n",
    "\n",
    "print(missing_info)"
   ]
  },
  {
   "cell_type": "code",
   "execution_count": 8,
   "id": "3ae56c65",
   "metadata": {},
   "outputs": [
    {
     "name": "stdout",
     "output_type": "stream",
     "text": [
      "rank                     0\n",
      "finalWorth               0\n",
      "category                 0\n",
      "personName               0\n",
      "age                      0\n",
      "country                  0\n",
      "city                    32\n",
      "source                   0\n",
      "industries               0\n",
      "countryOfCitizenship     0\n",
      "selfMade                 0\n",
      "gender                   0\n",
      "continent                0\n",
      "dtype: int64\n"
     ]
    }
   ],
   "source": [
    "# Remove rows where 'age' or 'country' have missing values\n",
    "data = data.dropna(subset=['age', 'country'])\n",
    "\n",
    "# Verify the operation by checking for missing values again\n",
    "print(data.isnull().sum())"
   ]
  },
  {
   "cell_type": "code",
   "execution_count": 9,
   "id": "9a46a069",
   "metadata": {},
   "outputs": [
    {
     "data": {
      "text/plain": [
       "(2549, 13)"
      ]
     },
     "execution_count": 9,
     "metadata": {},
     "output_type": "execute_result"
    }
   ],
   "source": [
    "# Final observations and variables aftering data cleaning\n",
    "# There are 2549 observations and 13 variables\n",
    "data.shape"
   ]
  },
  {
   "cell_type": "markdown",
   "id": "d9416638",
   "metadata": {},
   "source": [
    "## Summary Statistics"
   ]
  },
  {
   "cell_type": "code",
   "execution_count": 10,
   "id": "b637b0f7",
   "metadata": {},
   "outputs": [
    {
     "name": "stdout",
     "output_type": "stream",
     "text": [
      "              rank     finalWorth          age\n",
      "count  2549.000000    2549.000000  2549.000000\n",
      "mean   1276.801491    4704.236956    65.208709\n",
      "std     740.509866    9989.223279    13.161253\n",
      "min       1.000000    1000.000000    18.000000\n",
      "25%     636.000000    1500.000000    56.000000\n",
      "50%    1272.000000    2400.000000    65.000000\n",
      "75%    1905.000000    4300.000000    75.000000\n",
      "max    2540.000000  211000.000000   101.000000\n"
     ]
    }
   ],
   "source": [
    "# Generate the summary statistics for the dataset\n",
    "summary_stats = data.describe()\n",
    "print(summary_stats)"
   ]
  },
  {
   "cell_type": "code",
   "execution_count": 11,
   "id": "18cc2ad4",
   "metadata": {},
   "outputs": [
    {
     "data": {
      "text/html": [
       "<div>\n",
       "<style scoped>\n",
       "    .dataframe tbody tr th:only-of-type {\n",
       "        vertical-align: middle;\n",
       "    }\n",
       "\n",
       "    .dataframe tbody tr th {\n",
       "        vertical-align: top;\n",
       "    }\n",
       "\n",
       "    .dataframe thead th {\n",
       "        text-align: right;\n",
       "    }\n",
       "</style>\n",
       "<table border=\"1\" class=\"dataframe\">\n",
       "  <thead>\n",
       "    <tr style=\"text-align: right;\">\n",
       "      <th></th>\n",
       "      <th>rank</th>\n",
       "      <th>finalWorth</th>\n",
       "      <th>category</th>\n",
       "      <th>personName</th>\n",
       "      <th>age</th>\n",
       "      <th>country</th>\n",
       "      <th>city</th>\n",
       "      <th>source</th>\n",
       "      <th>industries</th>\n",
       "      <th>countryOfCitizenship</th>\n",
       "      <th>selfMade</th>\n",
       "      <th>gender</th>\n",
       "      <th>continent</th>\n",
       "    </tr>\n",
       "  </thead>\n",
       "  <tbody>\n",
       "    <tr>\n",
       "      <th>0</th>\n",
       "      <td>1</td>\n",
       "      <td>211.0</td>\n",
       "      <td>Fashion &amp; Retail</td>\n",
       "      <td>Bernard Arnault</td>\n",
       "      <td>74.0</td>\n",
       "      <td>France</td>\n",
       "      <td>Paris</td>\n",
       "      <td>LVMH</td>\n",
       "      <td>Fashion &amp; Retail</td>\n",
       "      <td>France</td>\n",
       "      <td>False</td>\n",
       "      <td>M</td>\n",
       "      <td>Europe</td>\n",
       "    </tr>\n",
       "    <tr>\n",
       "      <th>1</th>\n",
       "      <td>2</td>\n",
       "      <td>180.0</td>\n",
       "      <td>Automotive</td>\n",
       "      <td>Elon Musk</td>\n",
       "      <td>51.0</td>\n",
       "      <td>United States</td>\n",
       "      <td>Austin</td>\n",
       "      <td>Tesla, SpaceX</td>\n",
       "      <td>Automotive</td>\n",
       "      <td>United States</td>\n",
       "      <td>True</td>\n",
       "      <td>M</td>\n",
       "      <td>North America</td>\n",
       "    </tr>\n",
       "    <tr>\n",
       "      <th>2</th>\n",
       "      <td>3</td>\n",
       "      <td>114.0</td>\n",
       "      <td>Technology</td>\n",
       "      <td>Jeff Bezos</td>\n",
       "      <td>59.0</td>\n",
       "      <td>United States</td>\n",
       "      <td>Medina</td>\n",
       "      <td>Amazon</td>\n",
       "      <td>Technology</td>\n",
       "      <td>United States</td>\n",
       "      <td>True</td>\n",
       "      <td>M</td>\n",
       "      <td>North America</td>\n",
       "    </tr>\n",
       "    <tr>\n",
       "      <th>3</th>\n",
       "      <td>4</td>\n",
       "      <td>107.0</td>\n",
       "      <td>Technology</td>\n",
       "      <td>Larry Ellison</td>\n",
       "      <td>78.0</td>\n",
       "      <td>United States</td>\n",
       "      <td>Lanai</td>\n",
       "      <td>Oracle</td>\n",
       "      <td>Technology</td>\n",
       "      <td>United States</td>\n",
       "      <td>True</td>\n",
       "      <td>M</td>\n",
       "      <td>North America</td>\n",
       "    </tr>\n",
       "    <tr>\n",
       "      <th>4</th>\n",
       "      <td>5</td>\n",
       "      <td>106.0</td>\n",
       "      <td>Finance &amp; Investments</td>\n",
       "      <td>Warren Buffett</td>\n",
       "      <td>92.0</td>\n",
       "      <td>United States</td>\n",
       "      <td>Omaha</td>\n",
       "      <td>Berkshire Hathaway</td>\n",
       "      <td>Finance &amp; Investments</td>\n",
       "      <td>United States</td>\n",
       "      <td>True</td>\n",
       "      <td>M</td>\n",
       "      <td>North America</td>\n",
       "    </tr>\n",
       "  </tbody>\n",
       "</table>\n",
       "</div>"
      ],
      "text/plain": [
       "   rank  finalWorth               category       personName   age  \\\n",
       "0     1       211.0       Fashion & Retail  Bernard Arnault  74.0   \n",
       "1     2       180.0             Automotive        Elon Musk  51.0   \n",
       "2     3       114.0             Technology       Jeff Bezos  59.0   \n",
       "3     4       107.0             Technology    Larry Ellison  78.0   \n",
       "4     5       106.0  Finance & Investments   Warren Buffett  92.0   \n",
       "\n",
       "         country    city              source             industries  \\\n",
       "0         France   Paris                LVMH       Fashion & Retail   \n",
       "1  United States  Austin       Tesla, SpaceX             Automotive   \n",
       "2  United States  Medina              Amazon             Technology   \n",
       "3  United States   Lanai              Oracle             Technology   \n",
       "4  United States   Omaha  Berkshire Hathaway  Finance & Investments   \n",
       "\n",
       "  countryOfCitizenship  selfMade gender      continent  \n",
       "0               France     False      M         Europe  \n",
       "1        United States      True      M  North America  \n",
       "2        United States      True      M  North America  \n",
       "3        United States      True      M  North America  \n",
       "4        United States      True      M  North America  "
      ]
     },
     "execution_count": 11,
     "metadata": {},
     "output_type": "execute_result"
    }
   ],
   "source": [
    "# Convert 'finalWorth' from millions to billions\n",
    "data['finalWorth'] = data['finalWorth'] / 1000\n",
    "\n",
    "# Display the updated DataFrame\n",
    "data.head()"
   ]
  },
  {
   "cell_type": "code",
   "execution_count": 12,
   "id": "b31ef6d0",
   "metadata": {},
   "outputs": [
    {
     "name": "stdout",
     "output_type": "stream",
     "text": [
      "Average net worth: $4.7042369556688906 billion\n",
      "Median net worth: $2.4 billion\n",
      "Richest individual: Bernard Arnault with $211.0 billion\n",
      "Most common source of wealth: Real estate\n",
      "Most prevalent industry: Finance & Investments\n",
      "Most common country of billionaires: United States\n",
      "Most common city of billionaires: New York\n",
      "Average age of billionaires: 65.20870929776383 years\n",
      "Distribution of billionaires by gender:\n",
      " M    2247\n",
      "F     302\n",
      "Name: gender, dtype: int64\n"
     ]
    }
   ],
   "source": [
    "# 1. Wealth Analysis:\n",
    "# Average net worth\n",
    "average_net_worth = data['finalWorth'].mean()\n",
    "\n",
    "# Median net worth\n",
    "median_net_worth = data['finalWorth'].median()\n",
    "\n",
    "# Richest individuals based on finalWorth\n",
    "richest_individuals = data.groupby('personName')['finalWorth'].sum().sort_values(ascending=False)\n",
    "\n",
    "# 2. Source of Wealth Analysis:\n",
    "# Most common source of wealth\n",
    "popular_source = data['source'].value_counts().idxmax()\n",
    "\n",
    "# Most prevalent industries\n",
    "prevalent_industries = data['industries'].value_counts().idxmax()\n",
    "\n",
    "# 3. Demographic Analysis:\n",
    "# Distribution of billionaires by gender\n",
    "gender_distribution = data['gender'].value_counts()\n",
    "\n",
    "# 4. Geographic Analysis:\n",
    "# Most common country of billionaires\n",
    "popular_country = data['country'].value_counts().idxmax()\n",
    "\n",
    "# Most common city of billionaires\n",
    "popular_city = data['city'].value_counts().idxmax()\n",
    "\n",
    "# 5. Age Analysis:\n",
    "# Average age of billionaires\n",
    "average_age = data['age'].mean()\n",
    "\n",
    "\n",
    "print(f\"Average net worth: ${average_net_worth} billion\")\n",
    "print(f\"Median net worth: ${median_net_worth} billion\")\n",
    "print(f\"Richest individual: {richest_individuals.idxmax()} with ${richest_individuals.max()} billion\")\n",
    "print(f\"Most common source of wealth: {popular_source}\")\n",
    "print(f\"Most prevalent industry: {prevalent_industries}\")\n",
    "print(f\"Most common country of billionaires: {popular_country}\")\n",
    "print(f\"Most common city of billionaires: {popular_city}\")\n",
    "print(f\"Average age of billionaires: {average_age} years\")\n",
    "print(\"Distribution of billionaires by gender:\\n\", gender_distribution)"
   ]
  },
  {
   "cell_type": "markdown",
   "id": "8d5e20b8",
   "metadata": {},
   "source": [
    "## Gender"
   ]
  },
  {
   "cell_type": "code",
   "execution_count": 13,
   "id": "26508218",
   "metadata": {},
   "outputs": [
    {
     "name": "stdout",
     "output_type": "stream",
     "text": [
      "M    2247\n",
      "F     302\n",
      "Name: gender, dtype: int64\n"
     ]
    }
   ],
   "source": [
    "# Get the counts of each gender\n",
    "gender_counts = data['gender'].value_counts()\n",
    "print(gender_counts)"
   ]
  },
  {
   "cell_type": "code",
   "execution_count": 14,
   "id": "2e4c3f87",
   "metadata": {},
   "outputs": [
    {
     "name": "stdout",
     "output_type": "stream",
     "text": [
      "rank                                               11\n",
      "finalWorth                                       80.5\n",
      "category                             Fashion & Retail\n",
      "personName              Francoise Bettencourt Meyers \n",
      "age                                              69.0\n",
      "country                                        France\n",
      "city                                            Paris\n",
      "source                                        L'Oréal\n",
      "industries                           Fashion & Retail\n",
      "countryOfCitizenship                           France\n",
      "selfMade                                        False\n",
      "gender                                              F\n",
      "continent                                      Europe\n",
      "Name: 10, dtype: object\n"
     ]
    }
   ],
   "source": [
    "females = data[data['gender'] == 'F']\n",
    "richest_female = females.sort_values(by='finalWorth', ascending=False).iloc[0]\n",
    "print(richest_female)"
   ]
  },
  {
   "cell_type": "code",
   "execution_count": 15,
   "id": "f27128d4",
   "metadata": {},
   "outputs": [
    {
     "name": "stdout",
     "output_type": "stream",
     "text": [
      "gender                  F    M  F_to_M_ratio\n",
      "category                                    \n",
      "Diversified            27  155      0.174194\n",
      "Energy                  8   89      0.089888\n",
      "Fashion & Retail       37  218      0.169725\n",
      "Finance & Investments  24  337      0.071217\n",
      "Food & Beverage        40  160      0.250000\n",
      "Healthcare             25  170      0.147059\n",
      "Manufacturing          39  272      0.143382\n",
      "Media & Entertainment   9   76      0.118421\n",
      "Real Estate            20  169      0.118343\n",
      "Technology             28  279      0.100358\n"
     ]
    }
   ],
   "source": [
    "# Count the top 10 industries by gender\n",
    "top_industries = data['category'].value_counts().head(10).index\n",
    "\n",
    "top_industries_data = data[data['category'].isin(top_industries)]\n",
    "\n",
    "\n",
    "gender_distribution = top_industries_data.groupby(['category', 'gender']).size().reset_index(name='count')\n",
    "\n",
    "pivot_table = gender_distribution.pivot(index='category', columns='gender', values='count')\n",
    "\n",
    "# calculate the female to male ratio\n",
    "pivot_table['F_to_M_ratio'] = pivot_table['F'] / pivot_table['M']\n",
    "\n",
    "# Print table with the ratio\n",
    "print(pivot_table)"
   ]
  },
  {
   "cell_type": "markdown",
   "id": "04e96870",
   "metadata": {},
   "source": [
    "## Final Worth"
   ]
  },
  {
   "cell_type": "code",
   "execution_count": 16,
   "id": "a4389977",
   "metadata": {},
   "outputs": [
    {
     "data": {
      "image/png": "[encoded data removed]",
      "text/plain": [
       "<Figure size 640x480 with 1 Axes>"
      ]
     },
     "metadata": {},
     "output_type": "display_data"
    }
   ],
   "source": [
    "# Plot a histogram of wealth distribution\n",
    "sns.histplot(data['finalWorth'], bins=100, kde=True)\n",
    "plt.title(\"Distribution of Worth\")              # Title of the plot\n",
    "plt.xlabel(\"Final Worth (billions of dollars)\") # X-axis label\n",
    "plt.ylabel(\"Number of Billionaires\")            # Y-axis label\n",
    "plt.show()                                      # Display the plot"
   ]
  },
  {
   "cell_type": "code",
   "execution_count": 17,
   "id": "3bdccf43",
   "metadata": {
    "scrolled": true
   },
   "outputs": [
    {
     "name": "stdout",
     "output_type": "stream",
     "text": [
      "The first bin range is from 1.0 to 3.1 with a count of 1579.0\n"
     ]
    }
   ],
   "source": [
    "# Count the number of data points in each bin\n",
    "counts, bin_edges = np.histogram(data['finalWorth'], bins=100)\n",
    "\n",
    "# Create a DataFrame to store the bin ranges and counts\n",
    "bin_ranges = pd.DataFrame({\n",
    "    'BinRangeMin': bin_edges[:-1],\n",
    "    'BinRangeMax': bin_edges[1:],\n",
    "    'Count': counts\n",
    "})\n",
    "\n",
    "# Find the range of the first bin where the majority of data points lie\n",
    "first_bin_range = bin_ranges.iloc[0]\n",
    "\n",
    "# To print out the first bin range\n",
    "print(f\"The first bin range is from {first_bin_range['BinRangeMin']} to {first_bin_range['BinRangeMax']} with a count of {first_bin_range['Count']}\")"
   ]
  },
  {
   "cell_type": "markdown",
   "id": "ed0ff929",
   "metadata": {},
   "source": [
    "## Self-Made vs Inherited Wealth"
   ]
  },
  {
   "cell_type": "code",
   "execution_count": 18,
   "id": "fa2e8c14",
   "metadata": {},
   "outputs": [
    {
     "data": {
      "image/png": "[encoded data removed]",
      "text/plain": [
       "<Figure size 1000x600 with 1 Axes>"
      ]
     },
     "metadata": {},
     "output_type": "display_data"
    }
   ],
   "source": [
    "# Convert the 'selfMade' column to numeric values: True to 1, False to 0\n",
    "data['selfMade_numeric'] = data['selfMade'].astype(int)\n",
    "\n",
    "# Generate the violin plot\n",
    "plt.figure(figsize=(10, 6)) # Set the size of the plot\n",
    "sns.violinplot(\n",
    "    x='selfMade_numeric', \n",
    "    y='finalWorth', \n",
    "    data=data, \n",
    "    split=True, \n",
    "    inner='quartile',\n",
    "    scale='width' # This scales the violins to the same width\n",
    ")\n",
    "\n",
    "# Customize the plot with title, labels, and custom x-ticks\n",
    "plt.title('Distribution of Final Worth by Wealth Origin', fontsize=14)\n",
    "plt.xlabel('Wealth Origin', fontsize=12)\n",
    "plt.ylabel('Final Worth (billions of dollars)', fontsize=12)\n",
    "plt.xticks(ticks=[0, 1], labels=['Inherited', 'Self-Made'], fontsize=12) # Setting custom labels for the x-axis\n",
    "plt.show()"
   ]
  },
  {
   "cell_type": "code",
   "execution_count": 19,
   "id": "41961313",
   "metadata": {},
   "outputs": [
    {
     "name": "stdout",
     "output_type": "stream",
     "text": [
      "Self-Made Billionaires' Descriptive Statistics:\n",
      "count    1780.000000\n",
      "mean        4.509775\n",
      "std         9.532748\n",
      "min         1.000000\n",
      "25%         1.500000\n",
      "50%         2.200000\n",
      "75%         4.100000\n",
      "max       180.000000\n",
      "Name: finalWorth, dtype: float64\n",
      "\n",
      "Inherited Billionaires' Descriptive Statistics:\n",
      "count    769.000000\n",
      "mean       5.154356\n",
      "std       10.966593\n",
      "min        1.000000\n",
      "25%        1.600000\n",
      "50%        2.700000\n",
      "75%        4.900000\n",
      "max      211.000000\n",
      "Name: finalWorth, dtype: float64\n"
     ]
    }
   ],
   "source": [
    "self_made_descriptive = data[data['selfMade']]['finalWorth'].describe(percentiles=[.25, .5, .75])\n",
    "inherited_descriptive = data[~data['selfMade']]['finalWorth'].describe(percentiles=[.25, .5, .75])\n",
    "\n",
    "# Printing out the descriptive statistics for both groups\n",
    "print(\"Self-Made Billionaires' Descriptive Statistics:\")\n",
    "print(self_made_descriptive)\n",
    "print(\"\\nInherited Billionaires' Descriptive Statistics:\")\n",
    "print(inherited_descriptive)"
   ]
  },
  {
   "cell_type": "markdown",
   "id": "1f5e5247",
   "metadata": {},
   "source": [
    "## Age"
   ]
  },
  {
   "cell_type": "code",
   "execution_count": 20,
   "id": "023766a2",
   "metadata": {},
   "outputs": [
    {
     "data": {
      "image/png": "[encoded data removed]",
      "text/plain": [
       "<Figure size 640x480 with 1 Axes>"
      ]
     },
     "metadata": {},
     "output_type": "display_data"
    }
   ],
   "source": [
    "# Plot a histogram of age distribution\n",
    "sns.histplot(data['age'], bins=30, kde=True)\n",
    "plt.title(\"Distribution of Age\") # Title of the plot\n",
    "plt.xlabel(\"Age\")                # X-axis label\n",
    "plt.ylabel(\"Frequency\")          # Y-axis label\n",
    "plt.show()                       # Display the plot"
   ]
  },
  {
   "cell_type": "markdown",
   "id": "324986d4",
   "metadata": {
    "tags": []
   },
   "source": [
    "## Regression on Age"
   ]
  },
  {
   "cell_type": "code",
   "execution_count": 21,
   "id": "351ab673",
   "metadata": {},
   "outputs": [
    {
     "data": {
      "text/html": [
       "<table class=\"simpletable\">\n",
       "<caption>OLS Regression Results</caption>\n",
       "<tr>\n",
       "  <th>Dep. Variable:</th>       <td>finalWorth</td>    <th>  R-squared:         </th> <td>   0.004</td> \n",
       "</tr>\n",
       "<tr>\n",
       "  <th>Model:</th>                   <td>OLS</td>       <th>  Adj. R-squared:    </th> <td>   0.004</td> \n",
       "</tr>\n",
       "<tr>\n",
       "  <th>Method:</th>             <td>Least Squares</td>  <th>  F-statistic:       </th> <td>   11.35</td> \n",
       "</tr>\n",
       "<tr>\n",
       "  <th>Date:</th>             <td>Tue, 14 Nov 2023</td> <th>  Prob (F-statistic):</th> <td>0.000764</td> \n",
       "</tr>\n",
       "<tr>\n",
       "  <th>Time:</th>                 <td>16:30:57</td>     <th>  Log-Likelihood:    </th> <td> -9477.2</td> \n",
       "</tr>\n",
       "<tr>\n",
       "  <th>No. Observations:</th>      <td>  2549</td>      <th>  AIC:               </th> <td>1.896e+04</td>\n",
       "</tr>\n",
       "<tr>\n",
       "  <th>Df Residuals:</th>          <td>  2547</td>      <th>  BIC:               </th> <td>1.897e+04</td>\n",
       "</tr>\n",
       "<tr>\n",
       "  <th>Df Model:</th>              <td>     1</td>      <th>                     </th>     <td> </td>    \n",
       "</tr>\n",
       "<tr>\n",
       "  <th>Covariance Type:</th>      <td>nonrobust</td>    <th>                     </th>     <td> </td>    \n",
       "</tr>\n",
       "</table>\n",
       "<table class=\"simpletable\">\n",
       "<tr>\n",
       "    <td></td>       <th>coef</th>     <th>std err</th>      <th>t</th>      <th>P>|t|</th>  <th>[0.025</th>    <th>0.975]</th>  \n",
       "</tr>\n",
       "<tr>\n",
       "  <th>const</th> <td>    1.4070</td> <td>    0.998</td> <td>    1.410</td> <td> 0.159</td> <td>   -0.550</td> <td>    3.364</td>\n",
       "</tr>\n",
       "<tr>\n",
       "  <th>age</th>   <td>    0.0506</td> <td>    0.015</td> <td>    3.370</td> <td> 0.001</td> <td>    0.021</td> <td>    0.080</td>\n",
       "</tr>\n",
       "</table>\n",
       "<table class=\"simpletable\">\n",
       "<tr>\n",
       "  <th>Omnibus:</th>       <td>4005.515</td> <th>  Durbin-Watson:     </th>  <td>   0.031</td>  \n",
       "</tr>\n",
       "<tr>\n",
       "  <th>Prob(Omnibus):</th>  <td> 0.000</td>  <th>  Jarque-Bera (JB):  </th> <td>2161144.209</td>\n",
       "</tr>\n",
       "<tr>\n",
       "  <th>Skew:</th>           <td> 9.887</td>  <th>  Prob(JB):          </th>  <td>    0.00</td>  \n",
       "</tr>\n",
       "<tr>\n",
       "  <th>Kurtosis:</th>       <td>144.270</td> <th>  Cond. No.          </th>  <td>    336.</td>  \n",
       "</tr>\n",
       "</table><br/><br/>Notes:<br/>[1] Standard Errors assume that the covariance matrix of the errors is correctly specified."
      ],
      "text/latex": [
       "\\begin{center}\n",
       "\\begin{tabular}{lclc}\n",
       "\\toprule\n",
       "\\textbf{Dep. Variable:}    &    finalWorth    & \\textbf{  R-squared:         } &      0.004   \\\\\n",
       "\\textbf{Model:}            &       OLS        & \\textbf{  Adj. R-squared:    } &      0.004   \\\\\n",
       "\\textbf{Method:}           &  Least Squares   & \\textbf{  F-statistic:       } &      11.35   \\\\\n",
       "\\textbf{Date:}             & Tue, 14 Nov 2023 & \\textbf{  Prob (F-statistic):} &   0.000764   \\\\\n",
       "\\textbf{Time:}             &     16:30:57     & \\textbf{  Log-Likelihood:    } &    -9477.2   \\\\\n",
       "\\textbf{No. Observations:} &        2549      & \\textbf{  AIC:               } &  1.896e+04   \\\\\n",
       "\\textbf{Df Residuals:}     &        2547      & \\textbf{  BIC:               } &  1.897e+04   \\\\\n",
       "\\textbf{Df Model:}         &           1      & \\textbf{                     } &              \\\\\n",
       "\\textbf{Covariance Type:}  &    nonrobust     & \\textbf{                     } &              \\\\\n",
       "\\bottomrule\n",
       "\\end{tabular}\n",
       "\\begin{tabular}{lcccccc}\n",
       "               & \\textbf{coef} & \\textbf{std err} & \\textbf{t} & \\textbf{P$> |$t$|$} & \\textbf{[0.025} & \\textbf{0.975]}  \\\\\n",
       "\\midrule\n",
       "\\textbf{const} &       1.4070  &        0.998     &     1.410  &         0.159        &       -0.550    &        3.364     \\\\\n",
       "\\textbf{age}   &       0.0506  &        0.015     &     3.370  &         0.001        &        0.021    &        0.080     \\\\\n",
       "\\bottomrule\n",
       "\\end{tabular}\n",
       "\\begin{tabular}{lclc}\n",
       "\\textbf{Omnibus:}       & 4005.515 & \\textbf{  Durbin-Watson:     } &      0.031   \\\\\n",
       "\\textbf{Prob(Omnibus):} &   0.000  & \\textbf{  Jarque-Bera (JB):  } & 2161144.209  \\\\\n",
       "\\textbf{Skew:}          &   9.887  & \\textbf{  Prob(JB):          } &       0.00   \\\\\n",
       "\\textbf{Kurtosis:}      & 144.270  & \\textbf{  Cond. No.          } &       336.   \\\\\n",
       "\\bottomrule\n",
       "\\end{tabular}\n",
       "%\\caption{OLS Regression Results}\n",
       "\\end{center}\n",
       "\n",
       "Notes: \\newline\n",
       " [1] Standard Errors assume that the covariance matrix of the errors is correctly specified."
      ],
      "text/plain": [
       "<class 'statsmodels.iolib.summary.Summary'>\n",
       "\"\"\"\n",
       "                            OLS Regression Results                            \n",
       "==============================================================================\n",
       "Dep. Variable:             finalWorth   R-squared:                       0.004\n",
       "Model:                            OLS   Adj. R-squared:                  0.004\n",
       "Method:                 Least Squares   F-statistic:                     11.35\n",
       "Date:                Tue, 14 Nov 2023   Prob (F-statistic):           0.000764\n",
       "Time:                        16:30:57   Log-Likelihood:                -9477.2\n",
       "No. Observations:                2549   AIC:                         1.896e+04\n",
       "Df Residuals:                    2547   BIC:                         1.897e+04\n",
       "Df Model:                           1                                         \n",
       "Covariance Type:            nonrobust                                         \n",
       "==============================================================================\n",
       "                 coef    std err          t      P>|t|      [0.025      0.975]\n",
       "------------------------------------------------------------------------------\n",
       "const          1.4070      0.998      1.410      0.159      -0.550       3.364\n",
       "age            0.0506      0.015      3.370      0.001       0.021       0.080\n",
       "==============================================================================\n",
       "Omnibus:                     4005.515   Durbin-Watson:                   0.031\n",
       "Prob(Omnibus):                  0.000   Jarque-Bera (JB):          2161144.209\n",
       "Skew:                           9.887   Prob(JB):                         0.00\n",
       "Kurtosis:                     144.270   Cond. No.                         336.\n",
       "==============================================================================\n",
       "\n",
       "Notes:\n",
       "[1] Standard Errors assume that the covariance matrix of the errors is correctly specified.\n",
       "\"\"\""
      ]
     },
     "execution_count": 21,
     "metadata": {},
     "output_type": "execute_result"
    }
   ],
   "source": [
    "import statsmodels.api as sm\n",
    "\n",
    "Y = data['finalWorth']\n",
    "X = data[['age']]\n",
    "Xfull = sm.add_constant(X)\n",
    "\n",
    "model = sm.OLS(Y, Xfull).fit()\n",
    "\n",
    "model_summary = model.summary()\n",
    "model_summary"
   ]
  },
  {
   "cell_type": "code",
   "execution_count": 22,
   "id": "bd7cf555",
   "metadata": {},
   "outputs": [
    {
     "data": {
      "image/png": "[encoded data removed]",
      "text/plain": [
       "<Figure size 1200x600 with 1 Axes>"
      ]
     },
     "metadata": {},
     "output_type": "display_data"
    }
   ],
   "source": [
    "# Visualization\n",
    "plt.figure(figsize=(12, 6))\n",
    "\n",
    "# Scatter plot\n",
    "plt.scatter(X['age'], Y, alpha=0.5, label='Data points')\n",
    "\n",
    "# Regression line\n",
    "sns.regplot(x='age', y='finalWorth', data=data, scatter=False, label='Regression line', color='red')\n",
    "\n",
    "plt.title('Age vs Final Worth with Regression Line', fontsize=16)\n",
    "plt.xlabel('Age', fontsize=14)\n",
    "plt.ylabel('Final Worth', fontsize=14)\n",
    "plt.legend()\n",
    "plt.show()"
   ]
  },
  {
   "cell_type": "markdown",
   "id": "170e4c7e",
   "metadata": {},
   "source": [
    "## Industry"
   ]
  },
  {
   "cell_type": "code",
   "execution_count": 23,
   "id": "4d90b153",
   "metadata": {},
   "outputs": [
    {
     "name": "stdout",
     "output_type": "stream",
     "text": [
      "category\n",
      "Finance & Investments    361\n",
      "Manufacturing            311\n",
      "Technology               307\n",
      "Fashion & Retail         255\n",
      "Food & Beverage          200\n",
      "Healthcare               195\n",
      "Real Estate              189\n",
      "Diversified              182\n",
      "Energy                    97\n",
      "Media & Entertainment     85\n",
      "Name: personName, dtype: int64\n"
     ]
    }
   ],
   "source": [
    "# Group by industry and count the number of billionaires in each\n",
    "billionaire_count_by_industry = data.groupby('category')['personName'].count().sort_values(ascending=False)\n",
    "\n",
    "# Get the top 10 industries with the most billionaires\n",
    "top_10_industries = billionaire_count_by_industry.head(10)\n",
    "\n",
    "# Print the result\n",
    "print(top_10_industries)"
   ]
  },
  {
   "cell_type": "code",
   "execution_count": 24,
   "id": "9efc12d6",
   "metadata": {},
   "outputs": [
    {
     "name": "stdout",
     "output_type": "stream",
     "text": [
      "Top Industries for Young Billionaires (18-45):\n",
      "Technology               60\n",
      "Finance & Investments    22\n",
      "Fashion & Retail         16\n",
      "Media & Entertainment    12\n",
      "Food & Beverage          10\n",
      "Name: category, dtype: int64\n",
      "\n",
      "Gender Distribution for Young Billionaires (18-45):\n",
      "M    141\n",
      "F     28\n",
      "Name: gender, dtype: int64\n",
      "\n",
      "Top Industries for Older Billionaires (45+):\n",
      "Finance & Investments    339\n",
      "Manufacturing            305\n",
      "Technology               247\n",
      "Fashion & Retail         239\n",
      "Food & Beverage          190\n",
      "Name: category, dtype: int64\n",
      "\n",
      "Gender Distribution for Older Billionaires (45+):\n",
      "M    2106\n",
      "F     274\n",
      "Name: gender, dtype: int64\n"
     ]
    }
   ],
   "source": [
    "# Analyze industries for young billionaires 18-45)\n",
    "young_billionaires = data[(data['age'] >= 18) & (data['age'] <= 45)]\n",
    "top_industries_young = young_billionaires['category'].value_counts().head(5)  # Replace 'category' with the correct column name for industries if different\n",
    "print(\"Top Industries for Young Billionaires (18-45):\")\n",
    "print(top_industries_young)\n",
    "\n",
    "# Analyze gender distribution for young billionaires 18-45)\n",
    "gender_distribution_young = young_billionaires['gender'].value_counts()  # Replace 'gender' with the correct column name if different\n",
    "print(\"\\nGender Distribution for Young Billionaires (18-45):\")\n",
    "print(gender_distribution_young)\n",
    "\n",
    "# Analyze industries for older billionaires (45+)\n",
    "older_billionaires = data[data['age'] > 45]\n",
    "top_industries_older = older_billionaires['category'].value_counts().head(5)  # Replace 'category' with the correct column name for industries if different\n",
    "print(\"\\nTop Industries for Older Billionaires (45+):\")\n",
    "print(top_industries_older)\n",
    "\n",
    "# Analyze gender distribution for older billionaires (45+)\n",
    "gender_distribution_older = older_billionaires['gender'].value_counts()  # Replace 'gender' with the correct column name if different\n",
    "print(\"\\nGender Distribution for Older Billionaires (45+):\")\n",
    "print(gender_distribution_older)"
   ]
  },
  {
   "cell_type": "markdown",
   "id": "5aa37b31",
   "metadata": {},
   "source": [
    "## Continent"
   ]
  },
  {
   "cell_type": "code",
   "execution_count": 25,
   "id": "c5447c77",
   "metadata": {},
   "outputs": [
    {
     "ename": "ModuleNotFoundError",
     "evalue": "No module named 'geopandas'",
     "output_type": "error",
     "traceback": [
      "\u001b[0;31m---------------------------------------------------------------------------\u001b[0m",
      "\u001b[0;31mModuleNotFoundError\u001b[0m                       Traceback (most recent call last)",
      "Cell \u001b[0;32mIn[25], line 1\u001b[0m\n\u001b[0;32m----> 1\u001b[0m \u001b[38;5;28;01mimport\u001b[39;00m \u001b[38;5;21;01mgeopandas\u001b[39;00m \u001b[38;5;28;01mas\u001b[39;00m \u001b[38;5;21;01mgpd\u001b[39;00m\n\u001b[1;32m      3\u001b[0m \u001b[38;5;66;03m# pip install geopandas : copy paste that in your terminal so that you can run this part\u001b[39;00m\n\u001b[1;32m      4\u001b[0m \n\u001b[1;32m      5\u001b[0m \u001b[38;5;66;03m# Group by 'continent' to get the number of billionaires\u001b[39;00m\n\u001b[1;32m      6\u001b[0m billionaire_by_continent \u001b[38;5;241m=\u001b[39m data\u001b[38;5;241m.\u001b[39mgroupby(\u001b[38;5;124m'\u001b[39m\u001b[38;5;124mcontinent\u001b[39m\u001b[38;5;124m'\u001b[39m)[\u001b[38;5;124m'\u001b[39m\u001b[38;5;124mpersonName\u001b[39m\u001b[38;5;124m'\u001b[39m]\u001b[38;5;241m.\u001b[39mcount()\u001b[38;5;241m.\u001b[39mreset_index()\n",
      "\u001b[0;31mModuleNotFoundError\u001b[0m: No module named 'geopandas'"
     ]
    }
   ],
   "source": [
    "import geopandas as gpd\n",
    "\n",
    "# pip install geopandas : copy paste that in your terminal so that you can run this part\n",
    "\n",
    "# Group by 'continent' to get the number of billionaires\n",
    "billionaire_by_continent = data.groupby('continent')['personName'].count().reset_index()\n",
    "\n",
    "# Visualization: Heatmap on a world map showing billionaire density by continent.\n",
    "world = gpd.read_file(gpd.datasets.get_path('naturalearth_lowres'))\n",
    "\n",
    "# Add a 'Continent' column to the `world` dataframe for merging purposes\n",
    "world['Continent'] = world['continent']\n",
    "\n",
    "# Merge our billionaire data with the world dataframe\n",
    "merged_world = world.set_index('Continent').join(billionaire_by_continent.set_index('continent'))\n",
    "\n",
    "fig, ax = plt.subplots(1, 1, figsize=(15, 10))\n",
    "world.boundary.plot(ax=ax)\n",
    "merged_world.plot(column='personName', ax=ax, legend=True,cmap='coolwarm', \n",
    "                  legend_kwds={'label': \"Number of Billionaires by Continent\"})\n",
    "plt.show()\n",
    "\n",
    "# Print the billionaire count by continent\n",
    "print(billionaire_by_continent)"
   ]
  },
  {
   "cell_type": "code",
   "execution_count": null,
   "id": "6a3e6fd9",
   "metadata": {},
   "outputs": [],
   "source": [
    "# Group by 'continent' and 'category' to get the number of billionaires in each industry\n",
    "billionaire_industry_by_continent = data.groupby(['continent', 'category'])['personName'].count().reset_index(name='count')\n",
    "\n",
    "# Sort the data within each continent group for better readability\n",
    "billionaire_industry_by_continent_sorted = billionaire_industry_by_continent.sort_values(by=['continent', 'count'], ascending=[True, False])\n",
    "\n",
    "# Create a function to get the top 5 industries for each continent\n",
    "def top_5_industries(data):\n",
    "    return data.sort_values(by='count', ascending=False).head(5)\n",
    "\n",
    "\n",
    "top_industries_by_continent = billionaire_industry_by_continent_sorted.groupby('continent').apply(top_5_industries)\n",
    "\n",
    "top_industries_by_continent.reset_index(drop=True, inplace=True)\n",
    "\n",
    "print(top_industries_by_continent)"
   ]
  }
 ],
 "metadata": {
  "kernelspec": {
   "display_name": "Python 3 (ipykernel)",
   "language": "python",
   "name": "python3"
  },
  "language_info": {
   "codemirror_mode": {
    "name": "ipython",
    "version": 3
   },
   "file_extension": ".py",
   "mimetype": "text/x-python",
   "name": "python",
   "nbconvert_exporter": "python",
   "pygments_lexer": "ipython3",
   "version": "3.11.4"
  }
 },
 "nbformat": 4,
 "nbformat_minor": 5
}
